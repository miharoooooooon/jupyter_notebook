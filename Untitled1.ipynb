{
 "cells": [
  {
   "cell_type": "code",
   "execution_count": 9,
   "metadata": {},
   "outputs": [
    {
     "name": "stdout",
     "output_type": "stream",
     "text": [
      "['6,m,美白', '7,m,力', '9,k,高い', '12,m,乾燥', '13,m,対策']\n",
      "['6', 'm', '美白']\n",
      "['7', 'm', '力']\n",
      "6\n",
      "['12', 'm', '乾燥']\n",
      "['13', 'm', '対策']\n",
      "12\n",
      "['6,m,美白力', '9,k,高い', '12,m,乾燥対策']\n"
     ]
    }
   ],
   "source": [
    "import MeCab\n",
    "tagger = MeCab.Tagger()\n",
    "\n",
    "meishi = ('名詞', )\n",
    "keiyoushi = ('形容詞', )\n",
    "hukushi = ('副詞', )\n",
    "\n",
    "text = \"近所のドラッグストアにて，美白力の高い化粧水，乾燥対策として購入しました．\"\n",
    "\n",
    "key = ['うるおい','潤い','浸透','保湿','水分','乾燥','冬','乾燥肌','ハリ','ツヤ','モチ','吸収','紫外線','日焼け','UV','美白','白','透明感','くすみ','角質','毛穴','黒ずみ','サラ','油分','べた','ベタ','爽快','テカ','テカリ','てかり','トロ','とろみ','トロミ','肌','刺激','弱酸性','敏感肌','オーガニック','天然成分','ブツブツ','荒れ','トラブル','吹き出物','にきび','ニキビ','美容成分','アンチエイジング','シワ','エイジング','コストパフォーマンス','価格','値段','コスパ','金額','プチプラ','臭い','匂い','香り','癒し','ニオイ','無臭','サッパリ','におい','肌荒れ','スースー','角質ケア','サラッ','すーっと','トーン','低刺激','天然成分','ブツ','効果','さらり','サラリ','引き締め']\n",
    "key2 = ['力','感','効果','成分','量','率','肌','層','ケア','塗り','対策']\n",
    "\n",
    "node = tagger.parseToNode(text)\n",
    "words = []\n",
    "count = 0\n",
    "\n",
    "while node:\n",
    "    if node.feature.split(',')[0] in meishi:\n",
    "        if node.surface in key: #キーワードに含まれていたらリストに含む\n",
    "            words.append(str(count) + \",\" + \"m\" + \",\" + node.surface)\n",
    "        elif node.surface in key2: #キーワード2に含まれていたらリストに含む\n",
    "            words.append(str(count) + \",\" + \"m\" + \",\" + node.surface)\n",
    "    elif node.feature.split(',')[0] in keiyoushi:\n",
    "        words.append(str(count) + \",\" + \"k\" + \",\" + node.surface)\n",
    "    node = node.next\n",
    "    count += 1\n",
    "\n",
    "print(words)\n",
    "\n",
    "for i,w in enumerate(words): \n",
    "    word = w.split(',')\n",
    "    print(word)\n",
    "    if word[2] in key2: #キーワード2である場合\n",
    "        #print(word[i-1].split(',')[1])\n",
    "        if words[i-1].split(',')[2] in key: #リストの1つ前の単語がキーワードである場合\n",
    "            if int(words[i].split(',')[0]) - int(words[i-1].split(',')[0]) == 1: #その単語の順番が1つ前である場合\n",
    "                words[i-1] += word[2] #1つ前の単語とくっつける\n",
    "                words.pop(i)       #くっつける前の単語をリストから消す\n",
    "                words[i-1].split(',')[0] == int(words[i-1].split(',')[0]) + 1\n",
    "                print(words[i-1].split(',')[0])\n",
    "                \n",
    "print(words)"
   ]
  },
  {
   "cell_type": "code",
   "execution_count": null,
   "metadata": {},
   "outputs": [],
   "source": []
  }
 ],
 "metadata": {
  "kernelspec": {
   "display_name": "Python 3",
   "language": "python",
   "name": "python3"
  },
  "language_info": {
   "codemirror_mode": {
    "name": "ipython",
    "version": 3
   },
   "file_extension": ".py",
   "mimetype": "text/x-python",
   "name": "python",
   "nbconvert_exporter": "python",
   "pygments_lexer": "ipython3",
   "version": "3.6.4"
  }
 },
 "nbformat": 4,
 "nbformat_minor": 2
}
